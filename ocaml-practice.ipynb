{
 "cells": [
  {
   "cell_type": "code",
   "execution_count": 10,
   "id": "2843ab7a-b455-43dd-81eb-ea45e2bb258c",
   "metadata": {},
   "outputs": [
    {
     "data": {
      "text/plain": [
       "val x : int = 10\n"
      ]
     },
     "execution_count": 10,
     "metadata": {},
     "output_type": "execute_result"
    }
   ],
   "source": [
    "let (x:int)=10"
   ]
  },
  {
   "cell_type": "code",
   "execution_count": 19,
   "id": "51029bf3-7ebb-41d9-961d-71beffdb03c8",
   "metadata": {},
   "outputs": [
    {
     "data": {
      "text/plain": [
       "val fib : int -> int -> int = <fun>\n"
      ]
     },
     "execution_count": 19,
     "metadata": {},
     "output_type": "execute_result"
    }
   ],
   "source": [
    "let rec fib acc n = if n==1 then 0 else if n==2 then 1 else fib (n-1+n-2+acc) (n-1)"
   ]
  },
  {
   "cell_type": "code",
   "execution_count": 21,
   "id": "8d6bce61-5ae8-4b8b-96f3-39ff75010d95",
   "metadata": {},
   "outputs": [
    {
     "data": {
      "text/plain": [
       "- : int = 1\n"
      ]
     },
     "execution_count": 21,
     "metadata": {},
     "output_type": "execute_result"
    }
   ],
   "source": [
    "fib 0 10"
   ]
  },
  {
   "cell_type": "code",
   "execution_count": 24,
   "id": "01616165-62bf-424a-834f-1a719fdd19a0",
   "metadata": {},
   "outputs": [
    {
     "data": {
      "text/plain": [
       "type point = { x : int; y : int; z : int; }\n"
      ]
     },
     "execution_count": 24,
     "metadata": {},
     "output_type": "execute_result"
    }
   ],
   "source": [
    "type point =\n",
    "{\n",
    "x:int;y:int;z:int;\n",
    "}"
   ]
  },
  {
   "cell_type": "code",
   "execution_count": 30,
   "id": "328c4a6b-0bbe-42ea-b451-73a0658ff445",
   "metadata": {},
   "outputs": [
    {
     "data": {
      "text/plain": [
       "val y : point = {x = 10; y = 0; z = 90}\n"
      ]
     },
     "execution_count": 30,
     "metadata": {},
     "output_type": "execute_result"
    }
   ],
   "source": [
    "let y ={x=10;z=90;y=0}"
   ]
  },
  {
   "cell_type": "code",
   "execution_count": 31,
   "id": "d9657f77-8f90-44d7-9a51-4ab0356b3e0c",
   "metadata": {},
   "outputs": [
    {
     "data": {
      "text/plain": [
       "- : int = 90\n"
      ]
     },
     "execution_count": 31,
     "metadata": {},
     "output_type": "execute_result"
    }
   ],
   "source": [
    "y.z"
   ]
  },
  {
   "cell_type": "code",
   "execution_count": 32,
   "id": "7d878381-7a31-41d6-a159-deb7af1e5b34",
   "metadata": {},
   "outputs": [
    {
     "data": {
      "text/plain": [
       "val s : point = {x = 98; y = 80; z = 90}\n"
      ]
     },
     "execution_count": 32,
     "metadata": {},
     "output_type": "execute_result"
    }
   ],
   "source": [
    "let s = {y with x=98;y=80}"
   ]
  },
  {
   "cell_type": "code",
   "execution_count": 33,
   "id": "2a01e048-b0e8-45c1-a31f-60f64d7fd5ae",
   "metadata": {},
   "outputs": [
    {
     "data": {
      "text/plain": [
       "- : point = {x = 98; y = 80; z = 90}\n"
      ]
     },
     "execution_count": 33,
     "metadata": {},
     "output_type": "execute_result"
    }
   ],
   "source": [
    "s"
   ]
  },
  {
   "cell_type": "code",
   "execution_count": 37,
   "id": "94b76acf-0c5c-4910-a459-7de21dda7ad4",
   "metadata": {},
   "outputs": [
    {
     "data": {
      "text/plain": [
       "type x = int * float * int\n"
      ]
     },
     "execution_count": 37,
     "metadata": {},
     "output_type": "execute_result"
    }
   ],
   "source": [
    "type x=int*float*int"
   ]
  },
  {
   "cell_type": "code",
   "execution_count": 51,
   "id": "dfbccb0b-d726-4fed-8275-aa36c322f781",
   "metadata": {},
   "outputs": [
    {
     "data": {
      "text/plain": [
       "val a : x = (9, 9., 9)\n"
      ]
     },
     "execution_count": 51,
     "metadata": {},
     "output_type": "execute_result"
    }
   ],
   "source": [
    "let a:x=(9,9.,9)"
   ]
  },
  {
   "cell_type": "code",
   "execution_count": 52,
   "id": "53e70eef-4523-4814-acdf-7773e5f87150",
   "metadata": {},
   "outputs": [
    {
     "data": {
      "text/plain": [
       "type t = A | B | C\n"
      ]
     },
     "execution_count": 52,
     "metadata": {},
     "output_type": "execute_result"
    }
   ],
   "source": [
    "type t= A|B|C"
   ]
  },
  {
   "cell_type": "code",
   "execution_count": 55,
   "id": "7b0f8abb-0233-4f51-89ae-bc5ff16bab51",
   "metadata": {},
   "outputs": [
    {
     "data": {
      "text/plain": [
       "val x : t * t = (A, C)\n"
      ]
     },
     "execution_count": 55,
     "metadata": {},
     "output_type": "execute_result"
    }
   ],
   "source": [
    "let x=(A,C)"
   ]
  },
  {
   "cell_type": "code",
   "execution_count": 57,
   "id": "b7de4d08-bbc0-419a-bf12-b0f6e0c03f32",
   "metadata": {},
   "outputs": [
    {
     "data": {
      "text/plain": [
       "type a = { x : int; y : int; }\n"
      ]
     },
     "execution_count": 57,
     "metadata": {},
     "output_type": "execute_result"
    },
    {
     "data": {
      "text/plain": [
       "type b = A of a * t | B of a * a | C of a * t * string\n"
      ]
     },
     "execution_count": 57,
     "metadata": {},
     "output_type": "execute_result"
    }
   ],
   "source": [
    "type a={x:int;y:int;};;\n",
    "type b =\n",
    "| A of a*t\n",
    "| B of a*a\n",
    "| C of a*t*string"
   ]
  },
  {
   "cell_type": "code",
   "execution_count": 61,
   "id": "33cc58da-2600-4cef-96f8-c5696a9561e8",
   "metadata": {},
   "outputs": [
    {
     "data": {
      "text/plain": [
       "val x : b = A ({x = 90; y = 90}, A)\n"
      ]
     },
     "execution_count": 61,
     "metadata": {},
     "output_type": "execute_result"
    }
   ],
   "source": [
    "let x=A({x=90;y=90},A)"
   ]
  },
  {
   "cell_type": "code",
   "execution_count": 62,
   "id": "4d2a824e-242d-453a-9a03-a1d794404be4",
   "metadata": {},
   "outputs": [
    {
     "data": {
      "text/plain": [
       "- : b = A ({x = 90; y = 90}, A)\n"
      ]
     },
     "execution_count": 62,
     "metadata": {},
     "output_type": "execute_result"
    }
   ],
   "source": [
    "x"
   ]
  },
  {
   "cell_type": "code",
   "execution_count": 72,
   "id": "8035aaa1-9c5e-482a-b2ea-96c5a0c5307e",
   "metadata": {},
   "outputs": [
    {
     "data": {
      "text/plain": [
       "type 'a xyz = Ixyz | Cons of 'a * 'a xyz\n"
      ]
     },
     "execution_count": 72,
     "metadata": {},
     "output_type": "execute_result"
    }
   ],
   "source": [
    "type 'a xyz=\n",
    "| Ixyz\n",
    "| Cons of 'a*'a xyz"
   ]
  },
  {
   "cell_type": "code",
   "execution_count": 73,
   "id": "ff71c5b4-37e1-4871-89fa-c7b484558037",
   "metadata": {},
   "outputs": [
    {
     "data": {
      "text/plain": [
       "- : float xyz = Cons (1., Cons (2., Ixyz))\n"
      ]
     },
     "execution_count": 73,
     "metadata": {},
     "output_type": "execute_result"
    }
   ],
   "source": [
    "Cons(1.,Cons(2.,Ixyz))"
   ]
  },
  {
   "cell_type": "code",
   "execution_count": 78,
   "id": "c64ab0ab-854c-4ec0-806c-729cadf4f121",
   "metadata": {},
   "outputs": [
    {
     "data": {
      "text/plain": [
       "val x : abc = []\n"
      ]
     },
     "execution_count": 78,
     "metadata": {},
     "output_type": "execute_result"
    }
   ],
   "source": [
    "let x=[]"
   ]
  },
  {
   "cell_type": "code",
   "execution_count": 83,
   "id": "14073891-93ce-4e4f-8772-d4e921594d03",
   "metadata": {},
   "outputs": [
    {
     "data": {
      "text/plain": [
       "type 'a option = None | Some of 'a\n"
      ]
     },
     "execution_count": 83,
     "metadata": {},
     "output_type": "execute_result"
    }
   ],
   "source": [
    "type 'a option=\n",
    "| None\n",
    "| Some of 'a"
   ]
  },
  {
   "cell_type": "code",
   "execution_count": 89,
   "id": "67ffff94-64e2-41a6-a03c-a2b91c81ae54",
   "metadata": {},
   "outputs": [
    {
     "data": {
      "text/plain": [
       "val x : int * int * 'a option option option = (1, 1, Some (Some None))\n"
      ]
     },
     "execution_count": 89,
     "metadata": {},
     "output_type": "execute_result"
    }
   ],
   "source": [
    "let x=(1,1,Some(Some(None)))"
   ]
  },
  {
   "cell_type": "code",
   "execution_count": 91,
   "id": "7b51b070-1b91-499c-a3a9-1e8bd3c55c2e",
   "metadata": {},
   "outputs": [
    {
     "data": {
      "text/plain": [
       "type abc = int list\n"
      ]
     },
     "execution_count": 91,
     "metadata": {},
     "output_type": "execute_result"
    }
   ],
   "source": [
    "type abc = int list"
   ]
  },
  {
   "cell_type": "code",
   "execution_count": 94,
   "id": "92694d49-a6b1-4843-9c96-d82717170043",
   "metadata": {},
   "outputs": [
    {
     "data": {
      "text/plain": [
       "val x : abc = [1; 2]\n"
      ]
     },
     "execution_count": 94,
     "metadata": {},
     "output_type": "execute_result"
    }
   ],
   "source": [
    "let x:abc=1::2::[]"
   ]
  },
  {
   "cell_type": "code",
   "execution_count": 1,
   "id": "72f17a8a-fe55-47b8-9ba8-98bce5aa7b55",
   "metadata": {},
   "outputs": [
    {
     "data": {
      "text/plain": [
       "val len : 'a list -> int -> int = <fun>\n"
      ]
     },
     "execution_count": 1,
     "metadata": {},
     "output_type": "execute_result"
    }
   ],
   "source": [
    "let rec len l acc =\n",
    "match l with\n",
    "| [] -> acc\n",
    "| _ ->8"
   ]
  },
  {
   "cell_type": "code",
   "execution_count": 2,
   "id": "18765929-7205-47ce-bf4c-da5ef08743c4",
   "metadata": {},
   "outputs": [
    {
     "data": {
      "text/plain": [
       "- : int = 8\n"
      ]
     },
     "execution_count": 2,
     "metadata": {},
     "output_type": "execute_result"
    }
   ],
   "source": [
    "len [1;2;3;] 0;;"
   ]
  },
  {
   "cell_type": "code",
   "execution_count": 3,
   "id": "b55a93fa-2f74-437b-87df-6d487c05c205",
   "metadata": {},
   "outputs": [
    {
     "data": {
      "text/plain": [
       "val n_times : ('a -> 'a) * int * 'a -> 'a = <fun>\n"
      ]
     },
     "execution_count": 3,
     "metadata": {},
     "output_type": "execute_result"
    }
   ],
   "source": [
    "let rec n_times (f, n, v) =\n",
    "  if n<=0 then v else n_times (f,n-1,f (v))"
   ]
  },
  {
   "cell_type": "code",
   "execution_count": 10,
   "id": "28be2f56-8c05-48f0-96a7-83a89ead2b44",
   "metadata": {},
   "outputs": [
    {
     "data": {
      "text/plain": [
       "- : int = 100000000\n"
      ]
     },
     "execution_count": 10,
     "metadata": {},
     "output_type": "execute_result"
    }
   ],
   "source": [
    "n_times((fun x-> x+1), 100000000, 0)"
   ]
  },
  {
   "cell_type": "code",
   "execution_count": 13,
   "id": "ad962edb-8d1a-4528-a7ab-d6d004c4442b",
   "metadata": {},
   "outputs": [
    {
     "data": {
      "text/plain": [
       "- : unit = ()\n"
      ]
     },
     "execution_count": 13,
     "metadata": {},
     "output_type": "execute_result"
    }
   ],
   "source": [
    "(* 10 points *)\n",
    "assert (range 2 5 = [2;3;4;5])"
   ]
  },
  {
   "cell_type": "code",
   "execution_count": 15,
   "id": "e97d0fb7-7a43-4a43-9b4a-1570e229dbfa",
   "metadata": {},
   "outputs": [
    {
     "data": {
      "text/plain": [
       "val zipwith : 'a -> int list -> int list -> int list = <fun>\n"
      ]
     },
     "execution_count": 15,
     "metadata": {},
     "output_type": "execute_result"
    }
   ],
   "source": [
    "let rec zipwith f l1 l2 =\n",
    "match (l1,l2) with\n",
    "| (h1::t1,h2::t2) -> (h1+h2)::zipwith f t1 t2\n",
    "| (_,_) -> []"
   ]
  },
  {
   "cell_type": "code",
   "execution_count": 16,
   "id": "85691063-7208-43e6-9d4d-92d0a6f8862b",
   "metadata": {},
   "outputs": [
    {
     "data": {
      "text/plain": [
       "- : int list = [5; 7]\n"
      ]
     },
     "execution_count": 16,
     "metadata": {},
     "output_type": "execute_result"
    }
   ],
   "source": [
    "zipwith (+) [1;2;3] [4;5]"
   ]
  }
 ],
 "metadata": {
  "kernelspec": {
   "display_name": "OCaml 4.14",
   "language": "OCaml",
   "name": "ocaml-jupyter"
  },
  "language_info": {
   "codemirror_mode": "text/x-ocaml",
   "file_extension": ".ml",
   "mimetype": "text/x-ocaml",
   "name": "OCaml",
   "nbconverter_exporter": null,
   "pygments_lexer": "OCaml",
   "version": "4.14.2"
  }
 },
 "nbformat": 4,
 "nbformat_minor": 5
}
